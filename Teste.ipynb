{
 "cells": [
  {
   "cell_type": "code",
   "execution_count": 6,
   "metadata": {},
   "outputs": [
    {
     "data": {
      "text/html": [
       "<table>\n",
       "<thead><tr><th scope=col>V1</th><th scope=col>V2</th><th scope=col>V3</th></tr></thead>\n",
       "<tbody>\n",
       "\t<tr><td>20:22:32</td><td>21.50   </td><td>21.31   </td></tr>\n",
       "\t<tr><td>20:23:34</td><td>19.37   </td><td>20.81   </td></tr>\n",
       "\t<tr><td>20:24:35</td><td>18.87   </td><td>16.37   </td></tr>\n",
       "\t<tr><td>20:25:37</td><td>80.37   </td><td>16.06   </td></tr>\n",
       "\t<tr><td>20:26:39</td><td>78.25   </td><td>16.12   </td></tr>\n",
       "\t<tr><td>20:27:40</td><td>74.94   </td><td>16.19   </td></tr>\n",
       "\t<tr><td>20:28:42</td><td>71.87   </td><td>16.25   </td></tr>\n",
       "\t<tr><td>20:29:43</td><td>69.31   </td><td>16.37   </td></tr>\n",
       "\t<tr><td>20:30:45</td><td>66.87   </td><td>16.44   </td></tr>\n",
       "\t<tr><td>20:31:47</td><td>64.75   </td><td>16.50   </td></tr>\n",
       "\t<tr><td>20:32:48</td><td>62.81   </td><td>16.62   </td></tr>\n",
       "\t<tr><td>20:33:50</td><td>61.00   </td><td>16.75   </td></tr>\n",
       "\t<tr><td>20:34:52</td><td>59.38   </td><td>16.81   </td></tr>\n",
       "\t<tr><td>20:35:53</td><td>57.75   </td><td>16.94   </td></tr>\n",
       "\t<tr><td>20:36:55</td><td>56.25   </td><td>17.00   </td></tr>\n",
       "\t<tr><td>20:37:57</td><td>54.94   </td><td>17.06   </td></tr>\n",
       "\t<tr><td>20:38:58</td><td>53.63   </td><td>17.19   </td></tr>\n",
       "\t<tr><td>20:40:00</td><td>52.38   </td><td>17.25   </td></tr>\n",
       "\t<tr><td>20:41:01</td><td>51.25   </td><td>17.37   </td></tr>\n",
       "\t<tr><td>20:42:03</td><td>50.19   </td><td>17.44   </td></tr>\n",
       "\t<tr><td>20:43:05</td><td>49.19   </td><td>17.50   </td></tr>\n",
       "\t<tr><td>20:44:06</td><td>48.25   </td><td>17.56   </td></tr>\n",
       "\t<tr><td>20:45:08</td><td>47.31   </td><td>17.69   </td></tr>\n",
       "\t<tr><td>20:46:10</td><td>46.44   </td><td>17.75   </td></tr>\n",
       "\t<tr><td>20:47:11</td><td>45.63   </td><td>17.81   </td></tr>\n",
       "</tbody>\n",
       "</table>\n"
      ],
      "text/latex": [
       "\\begin{tabular}{r|lll}\n",
       " V1 & V2 & V3\\\\\n",
       "\\hline\n",
       "\t 20:22:32 & 21.50    & 21.31   \\\\\n",
       "\t 20:23:34 & 19.37    & 20.81   \\\\\n",
       "\t 20:24:35 & 18.87    & 16.37   \\\\\n",
       "\t 20:25:37 & 80.37    & 16.06   \\\\\n",
       "\t 20:26:39 & 78.25    & 16.12   \\\\\n",
       "\t 20:27:40 & 74.94    & 16.19   \\\\\n",
       "\t 20:28:42 & 71.87    & 16.25   \\\\\n",
       "\t 20:29:43 & 69.31    & 16.37   \\\\\n",
       "\t 20:30:45 & 66.87    & 16.44   \\\\\n",
       "\t 20:31:47 & 64.75    & 16.50   \\\\\n",
       "\t 20:32:48 & 62.81    & 16.62   \\\\\n",
       "\t 20:33:50 & 61.00    & 16.75   \\\\\n",
       "\t 20:34:52 & 59.38    & 16.81   \\\\\n",
       "\t 20:35:53 & 57.75    & 16.94   \\\\\n",
       "\t 20:36:55 & 56.25    & 17.00   \\\\\n",
       "\t 20:37:57 & 54.94    & 17.06   \\\\\n",
       "\t 20:38:58 & 53.63    & 17.19   \\\\\n",
       "\t 20:40:00 & 52.38    & 17.25   \\\\\n",
       "\t 20:41:01 & 51.25    & 17.37   \\\\\n",
       "\t 20:42:03 & 50.19    & 17.44   \\\\\n",
       "\t 20:43:05 & 49.19    & 17.50   \\\\\n",
       "\t 20:44:06 & 48.25    & 17.56   \\\\\n",
       "\t 20:45:08 & 47.31    & 17.69   \\\\\n",
       "\t 20:46:10 & 46.44    & 17.75   \\\\\n",
       "\t 20:47:11 & 45.63    & 17.81   \\\\\n",
       "\\end{tabular}\n"
      ],
      "text/markdown": [
       "\n",
       "| V1 | V2 | V3 |\n",
       "|---|---|---|\n",
       "| 20:22:32 | 21.50    | 21.31    |\n",
       "| 20:23:34 | 19.37    | 20.81    |\n",
       "| 20:24:35 | 18.87    | 16.37    |\n",
       "| 20:25:37 | 80.37    | 16.06    |\n",
       "| 20:26:39 | 78.25    | 16.12    |\n",
       "| 20:27:40 | 74.94    | 16.19    |\n",
       "| 20:28:42 | 71.87    | 16.25    |\n",
       "| 20:29:43 | 69.31    | 16.37    |\n",
       "| 20:30:45 | 66.87    | 16.44    |\n",
       "| 20:31:47 | 64.75    | 16.50    |\n",
       "| 20:32:48 | 62.81    | 16.62    |\n",
       "| 20:33:50 | 61.00    | 16.75    |\n",
       "| 20:34:52 | 59.38    | 16.81    |\n",
       "| 20:35:53 | 57.75    | 16.94    |\n",
       "| 20:36:55 | 56.25    | 17.00    |\n",
       "| 20:37:57 | 54.94    | 17.06    |\n",
       "| 20:38:58 | 53.63    | 17.19    |\n",
       "| 20:40:00 | 52.38    | 17.25    |\n",
       "| 20:41:01 | 51.25    | 17.37    |\n",
       "| 20:42:03 | 50.19    | 17.44    |\n",
       "| 20:43:05 | 49.19    | 17.50    |\n",
       "| 20:44:06 | 48.25    | 17.56    |\n",
       "| 20:45:08 | 47.31    | 17.69    |\n",
       "| 20:46:10 | 46.44    | 17.75    |\n",
       "| 20:47:11 | 45.63    | 17.81    |\n",
       "\n"
      ],
      "text/plain": [
       "   V1       V2    V3   \n",
       "1  20:22:32 21.50 21.31\n",
       "2  20:23:34 19.37 20.81\n",
       "3  20:24:35 18.87 16.37\n",
       "4  20:25:37 80.37 16.06\n",
       "5  20:26:39 78.25 16.12\n",
       "6  20:27:40 74.94 16.19\n",
       "7  20:28:42 71.87 16.25\n",
       "8  20:29:43 69.31 16.37\n",
       "9  20:30:45 66.87 16.44\n",
       "10 20:31:47 64.75 16.50\n",
       "11 20:32:48 62.81 16.62\n",
       "12 20:33:50 61.00 16.75\n",
       "13 20:34:52 59.38 16.81\n",
       "14 20:35:53 57.75 16.94\n",
       "15 20:36:55 56.25 17.00\n",
       "16 20:37:57 54.94 17.06\n",
       "17 20:38:58 53.63 17.19\n",
       "18 20:40:00 52.38 17.25\n",
       "19 20:41:01 51.25 17.37\n",
       "20 20:42:03 50.19 17.44\n",
       "21 20:43:05 49.19 17.50\n",
       "22 20:44:06 48.25 17.56\n",
       "23 20:45:08 47.31 17.69\n",
       "24 20:46:10 46.44 17.75\n",
       "25 20:47:11 45.63 17.81"
      ]
     },
     "metadata": {},
     "output_type": "display_data"
    }
   ],
   "source": [
    "mydata <- read.csv(\"C:/Users/Philco/downloads/dados.csv\", header=FALSE)\n",
    "head(mydata, 25)"
   ]
  },
  {
   "cell_type": "code",
   "execution_count": 62,
   "metadata": {},
   "outputs": [],
   "source": [
    "names(mydata) <- c('H','T.A','T.B')"
   ]
  },
  {
   "cell_type": "code",
   "execution_count": 63,
   "metadata": {},
   "outputs": [
    {
     "data": {
      "text/html": [
       "<table>\n",
       "<thead><tr><th scope=col>H</th><th scope=col>T.A</th><th scope=col>T.B</th></tr></thead>\n",
       "<tbody>\n",
       "\t<tr><td>20:22:32</td><td>21.50   </td><td>21.31   </td></tr>\n",
       "\t<tr><td>20:23:34</td><td>19.37   </td><td>20.81   </td></tr>\n",
       "\t<tr><td>20:24:35</td><td>18.87   </td><td>16.37   </td></tr>\n",
       "</tbody>\n",
       "</table>\n"
      ],
      "text/latex": [
       "\\begin{tabular}{r|lll}\n",
       " H & T.A & T.B\\\\\n",
       "\\hline\n",
       "\t 20:22:32 & 21.50    & 21.31   \\\\\n",
       "\t 20:23:34 & 19.37    & 20.81   \\\\\n",
       "\t 20:24:35 & 18.87    & 16.37   \\\\\n",
       "\\end{tabular}\n"
      ],
      "text/markdown": [
       "\n",
       "| H | T.A | T.B |\n",
       "|---|---|---|\n",
       "| 20:22:32 | 21.50    | 21.31    |\n",
       "| 20:23:34 | 19.37    | 20.81    |\n",
       "| 20:24:35 | 18.87    | 16.37    |\n",
       "\n"
      ],
      "text/plain": [
       "  H        T.A   T.B  \n",
       "1 20:22:32 21.50 21.31\n",
       "2 20:23:34 19.37 20.81\n",
       "3 20:24:35 18.87 16.37"
      ]
     },
     "metadata": {},
     "output_type": "display_data"
    }
   ],
   "source": [
    "head(mydata, 3)"
   ]
  },
  {
   "cell_type": "code",
   "execution_count": 8,
   "metadata": {},
   "outputs": [
    {
     "data": {
      "text/html": [
       "0"
      ],
      "text/latex": [
       "0"
      ],
      "text/markdown": [
       "0"
      ],
      "text/plain": [
       "[1] 0"
      ]
     },
     "metadata": {},
     "output_type": "display_data"
    }
   ],
   "source": [
    "#Calculando a quantidade de dados faltantes\n",
    "sum(is.na(mydata))"
   ]
  },
  {
   "cell_type": "code",
   "execution_count": null,
   "metadata": {},
   "outputs": [],
   "source": [
    "install.packages(\"tidyverse\")"
   ]
  },
  {
   "cell_type": "code",
   "execution_count": null,
   "metadata": {},
   "outputs": [],
   "source": [
    "library(tibble)\n",
    "library(dplyr)"
   ]
  },
  {
   "cell_type": "code",
   "execution_count": 64,
   "metadata": {},
   "outputs": [
    {
     "data": {
      "text/html": [
       "<table>\n",
       "<thead><tr><th scope=col>H</th><th scope=col>T.A</th></tr></thead>\n",
       "<tbody>\n",
       "\t<tr><td>20:22:32</td><td>21.50   </td></tr>\n",
       "\t<tr><td>20:23:34</td><td>19.37   </td></tr>\n",
       "</tbody>\n",
       "</table>\n"
      ],
      "text/latex": [
       "\\begin{tabular}{r|ll}\n",
       " H & T.A\\\\\n",
       "\\hline\n",
       "\t 20:22:32 & 21.50   \\\\\n",
       "\t 20:23:34 & 19.37   \\\\\n",
       "\\end{tabular}\n"
      ],
      "text/markdown": [
       "\n",
       "| H | T.A |\n",
       "|---|---|\n",
       "| 20:22:32 | 21.50    |\n",
       "| 20:23:34 | 19.37    |\n",
       "\n"
      ],
      "text/plain": [
       "  H        T.A  \n",
       "1 20:22:32 21.50\n",
       "2 20:23:34 19.37"
      ]
     },
     "metadata": {},
     "output_type": "display_data"
    },
    {
     "data": {
      "text/html": [
       "<table>\n",
       "<thead><tr><th scope=col>H</th><th scope=col>T.B</th></tr></thead>\n",
       "<tbody>\n",
       "\t<tr><td>20:22:32</td><td>21.31   </td></tr>\n",
       "\t<tr><td>20:23:34</td><td>20.81   </td></tr>\n",
       "</tbody>\n",
       "</table>\n"
      ],
      "text/latex": [
       "\\begin{tabular}{r|ll}\n",
       " H & T.B\\\\\n",
       "\\hline\n",
       "\t 20:22:32 & 21.31   \\\\\n",
       "\t 20:23:34 & 20.81   \\\\\n",
       "\\end{tabular}\n"
      ],
      "text/markdown": [
       "\n",
       "| H | T.B |\n",
       "|---|---|\n",
       "| 20:22:32 | 21.31    |\n",
       "| 20:23:34 | 20.81    |\n",
       "\n"
      ],
      "text/plain": [
       "  H        T.B  \n",
       "1 20:22:32 21.31\n",
       "2 20:23:34 20.81"
      ]
     },
     "metadata": {},
     "output_type": "display_data"
    }
   ],
   "source": [
    "head(mydata %>% select(H,T.A), 2)\n",
    "head(mydata %>% select(H,T.B), 2)"
   ]
  },
  {
   "cell_type": "code",
   "execution_count": 40,
   "metadata": {},
   "outputs": [
    {
     "data": {
      "text/html": [
       "30.821935483871"
      ],
      "text/latex": [
       "30.821935483871"
      ],
      "text/markdown": [
       "30.821935483871"
      ],
      "text/plain": [
       "[1] 30.82194"
      ]
     },
     "metadata": {},
     "output_type": "display_data"
    }
   ],
   "source": [
    "# MÉDIA ARITMÉTIC da temperatura do sensor A\n",
    "mean(mydata$T.A)"
   ]
  },
  {
   "cell_type": "code",
   "execution_count": 41,
   "metadata": {},
   "outputs": [
    {
     "data": {
      "text/html": [
       "20.2270967741935"
      ],
      "text/latex": [
       "20.2270967741935"
      ],
      "text/markdown": [
       "20.2270967741935"
      ],
      "text/plain": [
       "[1] 20.2271"
      ]
     },
     "metadata": {},
     "output_type": "display_data"
    }
   ],
   "source": [
    "# MÉDIA ARITMÉTICA da temperatura do sensor B\n",
    "mean(mydata$T.B)"
   ]
  },
  {
   "cell_type": "code",
   "execution_count": 42,
   "metadata": {},
   "outputs": [
    {
     "data": {
      "text/html": [
       "25.405"
      ],
      "text/latex": [
       "25.405"
      ],
      "text/markdown": [
       "25.405"
      ],
      "text/plain": [
       "[1] 25.405"
      ]
     },
     "metadata": {},
     "output_type": "display_data"
    }
   ],
   "source": [
    "# MEDIANA da temperatura do sensor A\n",
    "median(mydata$T.A)"
   ]
  },
  {
   "cell_type": "code",
   "execution_count": 43,
   "metadata": {},
   "outputs": [
    {
     "data": {
      "text/html": [
       "20.81"
      ],
      "text/latex": [
       "20.81"
      ],
      "text/markdown": [
       "20.81"
      ],
      "text/plain": [
       "[1] 20.81"
      ]
     },
     "metadata": {},
     "output_type": "display_data"
    }
   ],
   "source": [
    "# MEDIANA da temperatura do sensor B\n",
    "median(mydata$T.B)"
   ]
  },
  {
   "cell_type": "code",
   "execution_count": 46,
   "metadata": {},
   "outputs": [
    {
     "data": {
      "text/html": [
       "<table>\n",
       "<thead><tr><th scope=col>0%</th><th scope=col>25%</th><th scope=col>50%</th><th scope=col>75%</th><th scope=col>100%</th></tr></thead>\n",
       "<tbody>\n",
       "\t<tr><td>18.87  </td><td>23.325 </td><td>25.405 </td><td>32.7325</td><td>80.37  </td></tr>\n",
       "</tbody>\n",
       "</table>\n"
      ],
      "text/latex": [
       "\\begin{tabular}{lllll}\n",
       " 0\\% & 25\\% & 50\\% & 75\\% & 100\\%\\\\\n",
       "\\hline\n",
       "\t 18.87   & 23.325  & 25.405  & 32.7325 & 80.37  \\\\\n",
       "\\end{tabular}\n"
      ],
      "text/markdown": [
       "\n",
       "| 0% | 25% | 50% | 75% | 100% |\n",
       "|---|---|---|---|---|\n",
       "| 18.87   | 23.325  | 25.405  | 32.7325 | 80.37   |\n",
       "\n"
      ],
      "text/plain": [
       "     0%    25%    50%    75%     100% \n",
       "[1,] 18.87 23.325 25.405 32.7325 80.37"
      ]
     },
     "metadata": {},
     "output_type": "display_data"
    }
   ],
   "source": [
    "# PERCENTIL da temperatura do sensor A\n",
    "quartis = quantile(mydata$T.A)\n",
    "t(quartis)"
   ]
  },
  {
   "cell_type": "code",
   "execution_count": 47,
   "metadata": {},
   "outputs": [
    {
     "data": {
      "text/html": [
       "<table>\n",
       "<thead><tr><th scope=col>0%</th><th scope=col>25%</th><th scope=col>50%</th><th scope=col>75%</th><th scope=col>100%</th></tr></thead>\n",
       "<tbody>\n",
       "\t<tr><td>16.06 </td><td>19.265</td><td>20.81 </td><td>21.56 </td><td>21.87 </td></tr>\n",
       "</tbody>\n",
       "</table>\n"
      ],
      "text/latex": [
       "\\begin{tabular}{lllll}\n",
       " 0\\% & 25\\% & 50\\% & 75\\% & 100\\%\\\\\n",
       "\\hline\n",
       "\t 16.06  & 19.265 & 20.81  & 21.56  & 21.87 \\\\\n",
       "\\end{tabular}\n"
      ],
      "text/markdown": [
       "\n",
       "| 0% | 25% | 50% | 75% | 100% |\n",
       "|---|---|---|---|---|\n",
       "| 16.06  | 19.265 | 20.81  | 21.56  | 21.87  |\n",
       "\n"
      ],
      "text/plain": [
       "     0%    25%    50%   75%   100% \n",
       "[1,] 16.06 19.265 20.81 21.56 21.87"
      ]
     },
     "metadata": {},
     "output_type": "display_data"
    }
   ],
   "source": [
    "# PERCENTIL da temperatura do sensor B\n",
    "quartis = quantile(mydata$T.B)\n",
    "t(quartis)"
   ]
  },
  {
   "cell_type": "code",
   "execution_count": 48,
   "metadata": {},
   "outputs": [
    {
     "data": {
      "text/plain": [
       "   Min. 1st Qu.  Median    Mean 3rd Qu.    Max. \n",
       "  18.87   23.32   25.41   30.82   32.73   80.37 "
      ]
     },
     "metadata": {},
     "output_type": "display_data"
    }
   ],
   "source": [
    "# RESUMO o mínimo, o 1º quartil, a mediana, a média, o 3º quartil e o máximo da temp. A\n",
    "summary(mydata$T.A)"
   ]
  },
  {
   "cell_type": "code",
   "execution_count": 49,
   "metadata": {},
   "outputs": [
    {
     "data": {
      "text/plain": [
       "   Min. 1st Qu.  Median    Mean 3rd Qu.    Max. \n",
       "  16.06   19.27   20.81   20.23   21.56   21.87 "
      ]
     },
     "metadata": {},
     "output_type": "display_data"
    }
   ],
   "source": [
    "# RESUMO o mínimo, o 1º quartil, a mediana, a média, o 3º quartil e o máximo da temp. B\n",
    "summary(mydata$T.B)"
   ]
  },
  {
   "cell_type": "code",
   "execution_count": 50,
   "metadata": {},
   "outputs": [
    {
     "data": {
      "text/html": [
       "61.5"
      ],
      "text/latex": [
       "61.5"
      ],
      "text/markdown": [
       "61.5"
      ],
      "text/plain": [
       "[1] 61.5"
      ]
     },
     "metadata": {},
     "output_type": "display_data"
    }
   ],
   "source": [
    "# AMPLITUDE da temperatura do sensor A\n",
    "amplitude = max(mydata$T.A) - min(mydata$T.A)\n",
    "amplitude"
   ]
  },
  {
   "cell_type": "code",
   "execution_count": 51,
   "metadata": {},
   "outputs": [
    {
     "data": {
      "text/html": [
       "5.81"
      ],
      "text/latex": [
       "5.81"
      ],
      "text/markdown": [
       "5.81"
      ],
      "text/plain": [
       "[1] 5.81"
      ]
     },
     "metadata": {},
     "output_type": "display_data"
    }
   ],
   "source": [
    "# AMPLITUDE da temperatura do sensor B\n",
    "amplitude = max(mydata$T.B) - min(mydata$T.B)\n",
    "amplitude"
   ]
  },
  {
   "cell_type": "code",
   "execution_count": 52,
   "metadata": {},
   "outputs": [
    {
     "data": {
      "text/html": [
       "147.732576774194"
      ],
      "text/latex": [
       "147.732576774194"
      ],
      "text/markdown": [
       "147.732576774194"
      ],
      "text/plain": [
       "[1] 147.7326"
      ]
     },
     "metadata": {},
     "output_type": "display_data"
    }
   ],
   "source": [
    "# VARIÂNCIA da temperatura do sensor A\n",
    "var(mydata$T.A)"
   ]
  },
  {
   "cell_type": "code",
   "execution_count": 53,
   "metadata": {},
   "outputs": [
    {
     "data": {
      "text/html": [
       "2.64959368788143"
      ],
      "text/latex": [
       "2.64959368788143"
      ],
      "text/markdown": [
       "2.64959368788143"
      ],
      "text/plain": [
       "[1] 2.649594"
      ]
     },
     "metadata": {},
     "output_type": "display_data"
    }
   ],
   "source": [
    "# VARIÂNCIA da temperatura do sensor B\n",
    "var(mydata$T.B)"
   ]
  },
  {
   "cell_type": "code",
   "execution_count": 54,
   "metadata": {},
   "outputs": [
    {
     "data": {
      "text/html": [
       "12.1545290642704"
      ],
      "text/latex": [
       "12.1545290642704"
      ],
      "text/markdown": [
       "12.1545290642704"
      ],
      "text/plain": [
       "[1] 12.15453"
      ]
     },
     "metadata": {},
     "output_type": "display_data"
    }
   ],
   "source": [
    "# DESVIO PADRÃO a temperatura do sensor A\n",
    "sd(mydata$T.A)"
   ]
  },
  {
   "cell_type": "code",
   "execution_count": 55,
   "metadata": {},
   "outputs": [
    {
     "data": {
      "text/html": [
       "1.62775725705076"
      ],
      "text/latex": [
       "1.62775725705076"
      ],
      "text/markdown": [
       "1.62775725705076"
      ],
      "text/plain": [
       "[1] 1.627757"
      ]
     },
     "metadata": {},
     "output_type": "display_data"
    }
   ],
   "source": [
    "# DESVIO PADRÃO a temperatura do sensor B\n",
    "sd(mydata$T.B)"
   ]
  },
  {
   "cell_type": "code",
   "execution_count": 56,
   "metadata": {},
   "outputs": [
    {
     "data": {
      "text/html": [
       "-18.1319905666957"
      ],
      "text/latex": [
       "-18.1319905666957"
      ],
      "text/markdown": [
       "-18.1319905666957"
      ],
      "text/plain": [
       "[1] -18.13199"
      ]
     },
     "metadata": {},
     "output_type": "display_data"
    }
   ],
   "source": [
    "# COVARIÂNCIA entre temperatura do sensor A e B\n",
    "cov(mydata$T.A, mydata$T.B)"
   ]
  },
  {
   "cell_type": "code",
   "execution_count": 60,
   "metadata": {},
   "outputs": [
    {
     "data": {
      "text/html": [
       "-0.91646884892071"
      ],
      "text/latex": [
       "-0.91646884892071"
      ],
      "text/markdown": [
       "-0.91646884892071"
      ],
      "text/plain": [
       "[1] -0.9164688"
      ]
     },
     "metadata": {},
     "output_type": "display_data"
    }
   ],
   "source": [
    "# COEFICIENTE DE CORRELAÇÃO entre temperatura do sensor A e B\n",
    "cor(mydata$T.A, mydata$T.B)"
   ]
  },
  {
   "cell_type": "code",
   "execution_count": null,
   "metadata": {},
   "outputs": [],
   "source": [
    "library(tidyverse)"
   ]
  },
  {
   "cell_type": "code",
   "execution_count": 66,
   "metadata": {},
   "outputs": [
    {
     "data": {
      "image/png": "[encoded data removed]",
      "text/plain": [
       "plot without title"
      ]
     },
     "metadata": {},
     "output_type": "display_data"
    }
   ],
   "source": [
    "# GRÁFICO DE DISPERSÃO - temperatura A no eixo y e o horário no x\n",
    "# PRIMEIRO\n",
    "ggplot(data = mydata, mapping = aes(x = H, y = T.A))  + geom_jitter()"
   ]
  },
  {
   "cell_type": "code",
   "execution_count": 67,
   "metadata": {},
   "outputs": [
    {
     "data": {
      "image/png": "[encoded data removed]",
      "text/plain": [
       "plot without title"
      ]
     },
     "metadata": {},
     "output_type": "display_data"
    }
   ],
   "source": [
    "# GRÁFICO DE DISPERSÃO - temperatura B no eixo y e o horário no x \n",
    "# PRIMEIRO\n",
    "ggplot(data = mydata, mapping = aes(x = H, y = T.B))  + geom_jitter()"
   ]
  },
  {
   "cell_type": "code",
   "execution_count": 85,
   "metadata": {},
   "outputs": [
    {
     "data": {
      "image/png": "[encoded data removed]",
      "text/plain": [
       "plot without title"
      ]
     },
     "metadata": {},
     "output_type": "display_data"
    }
   ],
   "source": [
    "# GRÁFICO DE DISPERSÃO - temperatura A no eixo y e o horário no x \n",
    "# SEGUNDO\n",
    "ggplot(data = mydata, mapping = aes(x = H, y = T.A)) + geom_jitter (mapping = aes(color = T.A)) + labs ( \n",
    "    x = \"Horário\", y = \"Temperatura A\", title = \"Horário X Temperatura A\", color = \"Temperatura A\")"
   ]
  },
  {
   "cell_type": "code",
   "execution_count": 105,
   "metadata": {},
   "outputs": [
    {
     "data": {
      "image/png": "[encoded data removed]",
      "text/plain": [
       "plot without title"
      ]
     },
     "metadata": {},
     "output_type": "display_data"
    }
   ],
   "source": [
    "# GRÁFICO DE DISPERSÃO - temperatura B no eixo y e o horário no x \n",
    "# SEGUNDO\n",
    "ggplot(data = mydata, mapping = aes(x = H, y = T.B)) + geom_jitter (mapping = aes(color = T.B)) + labs (\n",
    "    x = \"Horário\", y = \"Temperatura A\", title = \"Horário x Temperatura B\", color = \"Temperatura B\")"
   ]
  },
  {
   "cell_type": "code",
   "execution_count": null,
   "metadata": {},
   "outputs": [],
   "source": []
  }
 ],
 "metadata": {
  "kernelspec": {
   "display_name": "R",
   "language": "R",
   "name": "ir"
  },
  "language_info": {
   "codemirror_mode": "r",
   "file_extension": ".r",
   "mimetype": "text/x-r-source",
   "name": "R",
   "pygments_lexer": "r",
   "version": "3.6.1"
  }
 },
 "nbformat": 4,
 "nbformat_minor": 4
}
