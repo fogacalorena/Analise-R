{
 "cells": [
  {
   "cell_type": "code",
   "execution_count": 17,
   "metadata": {},
   "outputs": [
    {
     "data": {
      "text/html": [
       "<table>\n",
       "<thead><tr><th scope=col>V1</th><th scope=col>V2</th><th scope=col>V3</th></tr></thead>\n",
       "<tbody>\n",
       "\t<tr><td>20:22:32</td><td>21.50   </td><td>21.31   </td></tr>\n",
       "\t<tr><td>20:23:34</td><td>19.37   </td><td>20.81   </td></tr>\n",
       "\t<tr><td>20:24:35</td><td>18.87   </td><td>16.37   </td></tr>\n",
       "\t<tr><td>20:25:37</td><td>80.37   </td><td>16.06   </td></tr>\n",
       "\t<tr><td>20:26:39</td><td>78.25   </td><td>16.12   </td></tr>\n",
       "\t<tr><td>20:27:40</td><td>74.94   </td><td>16.19   </td></tr>\n",
       "\t<tr><td>20:28:42</td><td>71.87   </td><td>16.25   </td></tr>\n",
       "\t<tr><td>20:29:43</td><td>69.31   </td><td>16.37   </td></tr>\n",
       "\t<tr><td>20:30:45</td><td>66.87   </td><td>16.44   </td></tr>\n",
       "\t<tr><td>20:31:47</td><td>64.75   </td><td>16.50   </td></tr>\n",
       "\t<tr><td>20:32:48</td><td>62.81   </td><td>16.62   </td></tr>\n",
       "\t<tr><td>20:33:50</td><td>61.00   </td><td>16.75   </td></tr>\n",
       "\t<tr><td>20:34:52</td><td>59.38   </td><td>16.81   </td></tr>\n",
       "\t<tr><td>20:35:53</td><td>57.75   </td><td>16.94   </td></tr>\n",
       "\t<tr><td>20:36:55</td><td>56.25   </td><td>17.00   </td></tr>\n",
       "\t<tr><td>20:37:57</td><td>54.94   </td><td>17.06   </td></tr>\n",
       "\t<tr><td>20:38:58</td><td>53.63   </td><td>17.19   </td></tr>\n",
       "\t<tr><td>20:40:00</td><td>52.38   </td><td>17.25   </td></tr>\n",
       "\t<tr><td>20:41:01</td><td>51.25   </td><td>17.37   </td></tr>\n",
       "\t<tr><td>20:42:03</td><td>50.19   </td><td>17.44   </td></tr>\n",
       "\t<tr><td>20:43:05</td><td>49.19   </td><td>17.50   </td></tr>\n",
       "\t<tr><td>20:44:06</td><td>48.25   </td><td>17.56   </td></tr>\n",
       "\t<tr><td>20:45:08</td><td>47.31   </td><td>17.69   </td></tr>\n",
       "\t<tr><td>20:46:10</td><td>46.44   </td><td>17.75   </td></tr>\n",
       "\t<tr><td>20:47:11</td><td>45.63   </td><td>17.81   </td></tr>\n",
       "</tbody>\n",
       "</table>\n"
      ],
      "text/latex": [
       "\\begin{tabular}{r|lll}\n",
       " V1 & V2 & V3\\\\\n",
       "\\hline\n",
       "\t 20:22:32 & 21.50    & 21.31   \\\\\n",
       "\t 20:23:34 & 19.37    & 20.81   \\\\\n",
       "\t 20:24:35 & 18.87    & 16.37   \\\\\n",
       "\t 20:25:37 & 80.37    & 16.06   \\\\\n",
       "\t 20:26:39 & 78.25    & 16.12   \\\\\n",
       "\t 20:27:40 & 74.94    & 16.19   \\\\\n",
       "\t 20:28:42 & 71.87    & 16.25   \\\\\n",
       "\t 20:29:43 & 69.31    & 16.37   \\\\\n",
       "\t 20:30:45 & 66.87    & 16.44   \\\\\n",
       "\t 20:31:47 & 64.75    & 16.50   \\\\\n",
       "\t 20:32:48 & 62.81    & 16.62   \\\\\n",
       "\t 20:33:50 & 61.00    & 16.75   \\\\\n",
       "\t 20:34:52 & 59.38    & 16.81   \\\\\n",
       "\t 20:35:53 & 57.75    & 16.94   \\\\\n",
       "\t 20:36:55 & 56.25    & 17.00   \\\\\n",
       "\t 20:37:57 & 54.94    & 17.06   \\\\\n",
       "\t 20:38:58 & 53.63    & 17.19   \\\\\n",
       "\t 20:40:00 & 52.38    & 17.25   \\\\\n",
       "\t 20:41:01 & 51.25    & 17.37   \\\\\n",
       "\t 20:42:03 & 50.19    & 17.44   \\\\\n",
       "\t 20:43:05 & 49.19    & 17.50   \\\\\n",
       "\t 20:44:06 & 48.25    & 17.56   \\\\\n",
       "\t 20:45:08 & 47.31    & 17.69   \\\\\n",
       "\t 20:46:10 & 46.44    & 17.75   \\\\\n",
       "\t 20:47:11 & 45.63    & 17.81   \\\\\n",
       "\\end{tabular}\n"
      ],
      "text/markdown": [
       "\n",
       "| V1 | V2 | V3 |\n",
       "|---|---|---|\n",
       "| 20:22:32 | 21.50    | 21.31    |\n",
       "| 20:23:34 | 19.37    | 20.81    |\n",
       "| 20:24:35 | 18.87    | 16.37    |\n",
       "| 20:25:37 | 80.37    | 16.06    |\n",
       "| 20:26:39 | 78.25    | 16.12    |\n",
       "| 20:27:40 | 74.94    | 16.19    |\n",
       "| 20:28:42 | 71.87    | 16.25    |\n",
       "| 20:29:43 | 69.31    | 16.37    |\n",
       "| 20:30:45 | 66.87    | 16.44    |\n",
       "| 20:31:47 | 64.75    | 16.50    |\n",
       "| 20:32:48 | 62.81    | 16.62    |\n",
       "| 20:33:50 | 61.00    | 16.75    |\n",
       "| 20:34:52 | 59.38    | 16.81    |\n",
       "| 20:35:53 | 57.75    | 16.94    |\n",
       "| 20:36:55 | 56.25    | 17.00    |\n",
       "| 20:37:57 | 54.94    | 17.06    |\n",
       "| 20:38:58 | 53.63    | 17.19    |\n",
       "| 20:40:00 | 52.38    | 17.25    |\n",
       "| 20:41:01 | 51.25    | 17.37    |\n",
       "| 20:42:03 | 50.19    | 17.44    |\n",
       "| 20:43:05 | 49.19    | 17.50    |\n",
       "| 20:44:06 | 48.25    | 17.56    |\n",
       "| 20:45:08 | 47.31    | 17.69    |\n",
       "| 20:46:10 | 46.44    | 17.75    |\n",
       "| 20:47:11 | 45.63    | 17.81    |\n",
       "\n"
      ],
      "text/plain": [
       "   V1       V2    V3   \n",
       "1  20:22:32 21.50 21.31\n",
       "2  20:23:34 19.37 20.81\n",
       "3  20:24:35 18.87 16.37\n",
       "4  20:25:37 80.37 16.06\n",
       "5  20:26:39 78.25 16.12\n",
       "6  20:27:40 74.94 16.19\n",
       "7  20:28:42 71.87 16.25\n",
       "8  20:29:43 69.31 16.37\n",
       "9  20:30:45 66.87 16.44\n",
       "10 20:31:47 64.75 16.50\n",
       "11 20:32:48 62.81 16.62\n",
       "12 20:33:50 61.00 16.75\n",
       "13 20:34:52 59.38 16.81\n",
       "14 20:35:53 57.75 16.94\n",
       "15 20:36:55 56.25 17.00\n",
       "16 20:37:57 54.94 17.06\n",
       "17 20:38:58 53.63 17.19\n",
       "18 20:40:00 52.38 17.25\n",
       "19 20:41:01 51.25 17.37\n",
       "20 20:42:03 50.19 17.44\n",
       "21 20:43:05 49.19 17.50\n",
       "22 20:44:06 48.25 17.56\n",
       "23 20:45:08 47.31 17.69\n",
       "24 20:46:10 46.44 17.75\n",
       "25 20:47:11 45.63 17.81"
      ]
     },
     "metadata": {},
     "output_type": "display_data"
    }
   ],
   "source": [
    "mydata <- read.csv(\"C:/Users/Philco/downloads/dados.csv\", header=FALSE)\n",
    "head(mydata, 25)"
   ]
  },
  {
   "cell_type": "code",
   "execution_count": 18,
   "metadata": {},
   "outputs": [],
   "source": [
    "names(mydata) <- c('Horário','Temperatura A','Temperatura B')"
   ]
  },
  {
   "cell_type": "code",
   "execution_count": 19,
   "metadata": {},
   "outputs": [
    {
     "data": {
      "text/html": [
       "<table>\n",
       "<thead><tr><th scope=col>Horário</th><th scope=col>Temperatura A</th><th scope=col>Temperatura B</th></tr></thead>\n",
       "<tbody>\n",
       "\t<tr><td>20:22:32</td><td>21.50   </td><td>21.31   </td></tr>\n",
       "\t<tr><td>20:23:34</td><td>19.37   </td><td>20.81   </td></tr>\n",
       "\t<tr><td>20:24:35</td><td>18.87   </td><td>16.37   </td></tr>\n",
       "\t<tr><td>20:25:37</td><td>80.37   </td><td>16.06   </td></tr>\n",
       "\t<tr><td>20:26:39</td><td>78.25   </td><td>16.12   </td></tr>\n",
       "</tbody>\n",
       "</table>\n"
      ],
      "text/latex": [
       "\\begin{tabular}{r|lll}\n",
       " Horário & Temperatura A & Temperatura B\\\\\n",
       "\\hline\n",
       "\t 20:22:32 & 21.50    & 21.31   \\\\\n",
       "\t 20:23:34 & 19.37    & 20.81   \\\\\n",
       "\t 20:24:35 & 18.87    & 16.37   \\\\\n",
       "\t 20:25:37 & 80.37    & 16.06   \\\\\n",
       "\t 20:26:39 & 78.25    & 16.12   \\\\\n",
       "\\end{tabular}\n"
      ],
      "text/markdown": [
       "\n",
       "| Horário | Temperatura A | Temperatura B |\n",
       "|---|---|---|\n",
       "| 20:22:32 | 21.50    | 21.31    |\n",
       "| 20:23:34 | 19.37    | 20.81    |\n",
       "| 20:24:35 | 18.87    | 16.37    |\n",
       "| 20:25:37 | 80.37    | 16.06    |\n",
       "| 20:26:39 | 78.25    | 16.12    |\n",
       "\n"
      ],
      "text/plain": [
       "  Horário  Temperatura A Temperatura B\n",
       "1 20:22:32 21.50         21.31        \n",
       "2 20:23:34 19.37         20.81        \n",
       "3 20:24:35 18.87         16.37        \n",
       "4 20:25:37 80.37         16.06        \n",
       "5 20:26:39 78.25         16.12        "
      ]
     },
     "metadata": {},
     "output_type": "display_data"
    }
   ],
   "source": [
    "head(mydata, 5)"
   ]
  },
  {
   "cell_type": "code",
   "execution_count": 20,
   "metadata": {},
   "outputs": [
    {
     "data": {
      "text/html": [
       "0"
      ],
      "text/latex": [
       "0"
      ],
      "text/markdown": [
       "0"
      ],
      "text/plain": [
       "[1] 0"
      ]
     },
     "metadata": {},
     "output_type": "display_data"
    }
   ],
   "source": [
    "#Calculando a quantidade de dados faltantes\n",
    "sum(is.na(mydata))"
   ]
  },
  {
   "cell_type": "code",
   "execution_count": 6,
   "metadata": {},
   "outputs": [
    {
     "name": "stderr",
     "output_type": "stream",
     "text": [
      "also installing the dependencies 'glue', 'tidyselect', 'dplyr', 'purrr', 'rlang', 'tibble'\n",
      "\n"
     ]
    },
    {
     "name": "stdout",
     "output_type": "stream",
     "text": [
      "package 'glue' successfully unpacked and MD5 sums checked\n"
     ]
    },
    {
     "name": "stderr",
     "output_type": "stream",
     "text": [
      "Warning message:\n",
      "\"cannot remove prior installation of package 'glue'\"Warning message in file.copy(savedcopy, lib, recursive = TRUE):\n",
      "\"problem copying C:\\ProgramData\\Anaconda3\\envs\\r-tutorial\\Lib\\R\\library\\00LOCK\\glue\\libs\\i386\\glue.dll to C:\\ProgramData\\Anaconda3\\envs\\r-tutorial\\Lib\\R\\library\\glue\\libs\\i386\\glue.dll: Permission denied\"Warning message:\n",
      "\"restored 'glue'\""
     ]
    },
    {
     "name": "stdout",
     "output_type": "stream",
     "text": [
      "package 'tidyselect' successfully unpacked and MD5 sums checked\n",
      "package 'dplyr' successfully unpacked and MD5 sums checked\n",
      "package 'purrr' successfully unpacked and MD5 sums checked\n",
      "package 'rlang' successfully unpacked and MD5 sums checked\n"
     ]
    },
    {
     "name": "stderr",
     "output_type": "stream",
     "text": [
      "Warning message:\n",
      "\"cannot remove prior installation of package 'rlang'\"Warning message in file.copy(savedcopy, lib, recursive = TRUE):\n",
      "\"problem copying C:\\ProgramData\\Anaconda3\\envs\\r-tutorial\\Lib\\R\\library\\00LOCK\\rlang\\libs\\i386\\rlang.dll to C:\\ProgramData\\Anaconda3\\envs\\r-tutorial\\Lib\\R\\library\\rlang\\libs\\i386\\rlang.dll: Permission denied\"Warning message:\n",
      "\"restored 'rlang'\""
     ]
    },
    {
     "name": "stdout",
     "output_type": "stream",
     "text": [
      "package 'tibble' successfully unpacked and MD5 sums checked\n",
      "package 'tidyverse' successfully unpacked and MD5 sums checked\n",
      "\n",
      "The downloaded binary packages are in\n",
      "\tC:\\Users\\Philco\\AppData\\Local\\Temp\\Rtmpw79bSQ\\downloaded_packages\n"
     ]
    }
   ],
   "source": [
    "install.packages(\"tidyverse\")"
   ]
  },
  {
   "cell_type": "code",
   "execution_count": 7,
   "metadata": {},
   "outputs": [
    {
     "name": "stderr",
     "output_type": "stream",
     "text": [
      "Warning message:\n",
      "\"package 'dplyr' was built under R version 3.6.3\""
     ]
    },
    {
     "ename": "ERROR",
     "evalue": "Error: package or namespace load failed for 'dplyr' in loadNamespace(i, c(lib.loc, .libPaths()), versionCheck = vI[[i]]):\n namespace 'rlang' 0.3.4 is already loaded, but >= 0.4.6 is required\n",
     "output_type": "error",
     "traceback": [
      "Error: package or namespace load failed for 'dplyr' in loadNamespace(i, c(lib.loc, .libPaths()), versionCheck = vI[[i]]):\n namespace 'rlang' 0.3.4 is already loaded, but >= 0.4.6 is required\nTraceback:\n",
      "1. library(dplyr)",
      "2. tryCatch({\n .     attr(package, \"LibPath\") <- which.lib.loc\n .     ns <- loadNamespace(package, lib.loc)\n .     env <- attachNamespace(ns, pos = pos, deps, exclude, include.only)\n . }, error = function(e) {\n .     P <- if (!is.null(cc <- conditionCall(e))) \n .         paste(\" in\", deparse(cc)[1L])\n .     else \"\"\n .     msg <- gettextf(\"package or namespace load failed for %s%s:\\n %s\", \n .         sQuote(package), P, conditionMessage(e))\n .     if (logical.return) \n .         message(paste(\"Error:\", msg), domain = NA)\n .     else stop(msg, call. = FALSE, domain = NA)\n . })",
      "3. tryCatchList(expr, classes, parentenv, handlers)",
      "4. tryCatchOne(expr, names, parentenv, handlers[[1L]])",
      "5. value[[3L]](cond)",
      "6. stop(msg, call. = FALSE, domain = NA)"
     ]
    }
   ],
   "source": [
    "library(dplyr)"
   ]
  },
  {
   "cell_type": "code",
   "execution_count": 8,
   "metadata": {},
   "outputs": [
    {
     "ename": "ERROR",
     "evalue": "Error in mydata %>% select(\"Horário\", \"Temperatura A\"): não foi possível encontrar a função \"%>%\"\n",
     "output_type": "error",
     "traceback": [
      "Error in mydata %>% select(\"Horário\", \"Temperatura A\"): não foi possível encontrar a função \"%>%\"\nTraceback:\n"
     ]
    }
   ],
   "source": [
    " mydata %>% select(\"Horário\", \"Temperatura A\")"
   ]
  },
  {
   "cell_type": "code",
   "execution_count": null,
   "metadata": {},
   "outputs": [],
   "source": []
  }
 ],
 "metadata": {
  "kernelspec": {
   "display_name": "R",
   "language": "R",
   "name": "ir"
  },
  "language_info": {
   "codemirror_mode": "r",
   "file_extension": ".r",
   "mimetype": "text/x-r-source",
   "name": "R",
   "pygments_lexer": "r",
   "version": "3.6.1"
  }
 },
 "nbformat": 4,
 "nbformat_minor": 4
}
